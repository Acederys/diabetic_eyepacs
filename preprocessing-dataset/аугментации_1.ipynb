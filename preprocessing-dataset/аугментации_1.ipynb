{
 "cells": [
  {
   "cell_type": "code",
   "execution_count": 1,
   "id": "d195fca1",
   "metadata": {},
   "outputs": [
    {
     "name": "stdout",
     "output_type": "stream",
     "text": [
      "✅ Скопировано оригиналов: 6260\n",
      "✅ Добавлено аугментированных: 6260\n",
      "📦 Всего изображений теперь: 12520\n"
     ]
    }
   ],
   "source": [
    "import os\n",
    "from PIL import Image\n",
    "from torchvision import transforms\n",
    "import random\n",
    "\n",
    "input_dir = 'D:/dataset/_eyepacs/data/filtered_data_with_cosine/train_old/1'\n",
    "output_dir = 'D:/dataset/_eyepacs/data/filtered_data_with_cosine/train_augmented/1'\n",
    "\n",
    "os.makedirs(output_dir, exist_ok=True)\n",
    "\n",
    "# Список простых и полезных трансформаций\n",
    "augmentation_transforms = [\n",
    "    transforms.RandomHorizontalFlip(p=1.0),\n",
    "    transforms.RandomRotation(20),\n",
    "    transforms.ColorJitter(brightness=0.2, contrast=0.2, saturation=0.2),\n",
    "    transforms.RandomVerticalFlip(p=1.0),\n",
    "]\n",
    "\n",
    "to_tensor = transforms.ToTensor()\n",
    "to_pil = transforms.ToPILImage()\n",
    "\n",
    "image_files = [f for f in os.listdir(input_dir) if f.lower().endswith(('.jpg', '.jpeg', '.png'))]\n",
    "\n",
    "augment_count = 0\n",
    "\n",
    "for filename in image_files:\n",
    "    img_path = os.path.join(input_dir, filename)\n",
    "    image = Image.open(img_path).convert(\"RGB\")\n",
    "\n",
    "    # Сохраняем оригинал в новую папку\n",
    "    image.save(os.path.join(output_dir, filename))\n",
    "\n",
    "    # Создаём одну аугментированную копию\n",
    "    transform = random.choice(augmentation_transforms)\n",
    "    augmented = transform(image)\n",
    "    augmented_filename = f\"aug_{filename}\"\n",
    "    augmented.save(os.path.join(output_dir, augmented_filename))\n",
    "    augment_count += 1\n",
    "\n",
    "print(f\"✅ Скопировано оригиналов: {len(image_files)}\")\n",
    "print(f\"✅ Добавлено аугментированных: {augment_count}\")\n",
    "print(f\"📦 Всего изображений теперь: {len(os.listdir(output_dir))}\")\n"
   ]
  }
 ],
 "metadata": {
  "kernelspec": {
   "display_name": "venv",
   "language": "python",
   "name": "python3"
  },
  "language_info": {
   "codemirror_mode": {
    "name": "ipython",
    "version": 3
   },
   "file_extension": ".py",
   "mimetype": "text/x-python",
   "name": "python",
   "nbconvert_exporter": "python",
   "pygments_lexer": "ipython3",
   "version": "3.10.11"
  }
 },
 "nbformat": 4,
 "nbformat_minor": 5
}
