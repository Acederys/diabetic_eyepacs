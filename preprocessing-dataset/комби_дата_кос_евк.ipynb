{
 "cells": [
  {
   "cell_type": "code",
   "execution_count": 1,
   "id": "f63770fd",
   "metadata": {},
   "outputs": [
    {
     "name": "stdout",
     "output_type": "stream",
     "text": [
      "Класс 0: найдено 18867 общих изображений\n",
      "Класс 1: найдено 5708 общих изображений\n",
      "Класс 2: найдено 86 общих изображений\n",
      "CSV сохранён по пути: D:\\dataset\\_eyepacs\\data\\combined_cosine_evklid.csv\n"
     ]
    }
   ],
   "source": [
    "import os\n",
    "from pathlib import Path\n",
    "import shutil\n",
    "import pandas as pd\n",
    "\n",
    "# Пути к исходным директориям\n",
    "evklid_dir = Path(\"D:/dataset/_eyepacs/data/center_evklid/train\")\n",
    "cosine_dir = Path(\"D:/dataset/_eyepacs/data/filtered_data_with_cosine/train\")\n",
    "\n",
    "# Путь к финальной директории и CSV\n",
    "combined_dir = Path(\"D:/dataset/_eyepacs/data/combined_cosine_evklid\")\n",
    "combined_dir.mkdir(parents=True, exist_ok=True)\n",
    "csv_output_path = Path(\"D:/dataset/_eyepacs/data/combined_cosine_evklid.csv\")\n",
    "\n",
    "# Собираем имена файлов из обеих папок\n",
    "def get_all_images_by_label(root_dir):\n",
    "    image_dict = {}\n",
    "    for label in ['0', '1', '2']:\n",
    "        folder = root_dir / label\n",
    "        if folder.exists():\n",
    "            image_dict[label] = {p.name for p in folder.glob(\"*.jpg\")}\n",
    "    return image_dict\n",
    "\n",
    "evklid_images = get_all_images_by_label(evklid_dir)\n",
    "cosine_images = get_all_images_by_label(cosine_dir)\n",
    "\n",
    "# Подготовим данные для csv\n",
    "csv_rows = []\n",
    "\n",
    "# Пересекаем и копируем\n",
    "for label in ['0', '1', '2']:\n",
    "    common_images = evklid_images.get(label, set()) & cosine_images.get(label, set())\n",
    "    print(f\"Класс {label}: найдено {len(common_images)} общих изображений\")\n",
    "\n",
    "    # Создаем директорию\n",
    "    dst_label_dir = combined_dir / label\n",
    "    dst_label_dir.mkdir(parents=True, exist_ok=True)\n",
    "\n",
    "    for img_name in common_images:\n",
    "        src_path = evklid_dir / label / img_name  # Можно поменять на cosine_dir\n",
    "        dst_path = dst_label_dir / img_name\n",
    "        shutil.copy2(src_path, dst_path)\n",
    "\n",
    "        # Добавим строку в csv\n",
    "        csv_rows.append({\"image_name\": img_name, \"true_label\": int(label)})\n",
    "\n",
    "# Сохраняем CSV\n",
    "df = pd.DataFrame(csv_rows)\n",
    "df.to_csv(csv_output_path, index=False)\n",
    "print(f\"CSV сохранён по пути: {csv_output_path}\")\n"
   ]
  },
  {
   "cell_type": "code",
   "execution_count": null,
   "id": "6fbddeaa",
   "metadata": {},
   "outputs": [],
   "source": []
  }
 ],
 "metadata": {
  "kernelspec": {
   "display_name": "venv",
   "language": "python",
   "name": "python3"
  },
  "language_info": {
   "codemirror_mode": {
    "name": "ipython",
    "version": 3
   },
   "file_extension": ".py",
   "mimetype": "text/x-python",
   "name": "python",
   "nbconvert_exporter": "python",
   "pygments_lexer": "ipython3",
   "version": "3.10.11"
  }
 },
 "nbformat": 4,
 "nbformat_minor": 5
}
