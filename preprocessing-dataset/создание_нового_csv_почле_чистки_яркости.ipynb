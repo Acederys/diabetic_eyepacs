{
 "cells": [
  {
   "cell_type": "code",
   "execution_count": null,
   "id": "543e6854",
   "metadata": {},
   "outputs": [
    {
     "name": "stdout",
     "output_type": "stream",
     "text": [
      "CSV сохранён в: D:\\dataset\\_eyepacs\\data\\ochisheni_no_yarkosti\\train_labels.csv\n"
     ]
    }
   ],
   "source": [
    "import os\n",
    "import pandas as pd\n",
    "from pathlib import Path\n",
    "# Новый датасет после яркости\n",
    "\n",
    "# Путь к папке с подпапками классов\n",
    "train_dir = Path(\"D:/dataset/_eyepacs/data/ochisheni_no_yarkosti/train\")\n",
    "\n",
    "# Список для хранения данных\n",
    "data = []\n",
    "\n",
    "# Проходим по каждой папке класса\n",
    "for class_folder in train_dir.iterdir():\n",
    "    if class_folder.is_dir():\n",
    "        label = class_folder.name\n",
    "        for image_file in class_folder.glob(\"*.jpg\"):\n",
    "            data.append({\n",
    "                \"image_name\": image_file.name,\n",
    "                \"true_label\": int(label)\n",
    "            })\n",
    "\n",
    "# Создаем DataFrame\n",
    "df = pd.DataFrame(data)\n",
    "\n",
    "# Сохраняем в CSV\n",
    "output_csv = train_dir.parent / \"train_labels.csv\"\n",
    "df.to_csv(output_csv, index=False)\n",
    "\n",
    "print(f\"CSV сохранён в: {output_csv}\")\n"
   ]
  },
  {
   "cell_type": "code",
   "execution_count": 1,
   "id": "c992bab7",
   "metadata": {},
   "outputs": [
    {
     "name": "stdout",
     "output_type": "stream",
     "text": [
      "CSV сохранён в: D:\\dataset\\_eyepacs\\data\\filtered_data_with_cosine\\train_all_image.csv\n"
     ]
    }
   ],
   "source": [
    "import os\n",
    "import pandas as pd\n",
    "from pathlib import Path\n",
    "\n",
    "# Новый датасет после аномалий\n",
    "\n",
    "# Путь к папке с подпапками классов\n",
    "train_dir = Path(\"D:/dataset/_eyepacs/data/filtered_data_with_cosine/train\")\n",
    "\n",
    "# Список для хранения данных\n",
    "data = []\n",
    "\n",
    "# Проходим по каждой папке класса\n",
    "for class_folder in train_dir.iterdir():\n",
    "    if class_folder.is_dir():\n",
    "        label = class_folder.name\n",
    "        for image_file in class_folder.glob(\"*.jpg\"):\n",
    "            data.append({\n",
    "                \"image_name\": image_file.name,\n",
    "                \"true_label\": int(label)\n",
    "            })\n",
    "\n",
    "# Создаем DataFrame\n",
    "df = pd.DataFrame(data)\n",
    "\n",
    "# Сохраняем в CSV\n",
    "output_csv = train_dir.parent / \"train_all_image.csv\"\n",
    "df.to_csv(output_csv, index=False)\n",
    "\n",
    "print(f\"CSV сохранён в: {output_csv}\")\n"
   ]
  },
  {
   "cell_type": "code",
   "execution_count": 1,
   "id": "c98292f2",
   "metadata": {},
   "outputs": [
    {
     "name": "stdout",
     "output_type": "stream",
     "text": [
      "CSV сохранён в: D:\\dataset\\_eyepacs\\data\\filtered_data_with_cosine\\train_labels.csv\n"
     ]
    }
   ],
   "source": [
    "import os\n",
    "import pandas as pd\n",
    "from pathlib import Path\n",
    "# Новый датасет после яркости\n",
    "\n",
    "# Путь к папке с подпапками классов\n",
    "train_dir = Path(\"D:/dataset/_eyepacs/data/filtered_data_with_cosine/train\")\n",
    "\n",
    "# Список для хранения данных\n",
    "data = []\n",
    "\n",
    "# Проходим по каждой папке класса\n",
    "for class_folder in train_dir.iterdir():\n",
    "    if class_folder.is_dir():\n",
    "        label = class_folder.name\n",
    "        for image_file in class_folder.glob(\"*.jpg\"):\n",
    "            data.append({\n",
    "                \"image_name\": image_file.name,\n",
    "                \"true_label\": int(label)\n",
    "            })\n",
    "\n",
    "# Создаем DataFrame\n",
    "df = pd.DataFrame(data)\n",
    "\n",
    "# Сохраняем в CSV\n",
    "output_csv = train_dir.parent / \"train_labels.csv\"\n",
    "df.to_csv(output_csv, index=False)\n",
    "\n",
    "print(f\"CSV сохранён в: {output_csv}\")\n"
   ]
  },
  {
   "cell_type": "code",
   "execution_count": 1,
   "id": "a8e0dca8",
   "metadata": {},
   "outputs": [
    {
     "name": "stdout",
     "output_type": "stream",
     "text": [
      "CSV сохранён в: D:\\dataset\\_eyepacs\\data\\filtered_data_with_cosine\\train_20_0_6_2.csv\n"
     ]
    }
   ],
   "source": [
    "import os\n",
    "import pandas as pd\n",
    "from pathlib import Path\n",
    "# Новый датасет после яркости\n",
    "\n",
    "# Путь к папке с подпапками классов\n",
    "train_dir = Path(\"D:/dataset/_eyepacs/data/filtered_data_with_cosine/train/\")\n",
    "\n",
    "# Список для хранения данных\n",
    "data = []\n",
    "\n",
    "# Проходим по каждой папке класса\n",
    "for class_folder in train_dir.iterdir():\n",
    "    if class_folder.is_dir():\n",
    "        label = class_folder.name\n",
    "        for image_file in class_folder.glob(\"*.jpg\"):\n",
    "            data.append({\n",
    "                \"image_name\": image_file.name,\n",
    "                \"true_label\": int(label)\n",
    "            })\n",
    "\n",
    "# Создаем DataFrame\n",
    "df = pd.DataFrame(data)\n",
    "\n",
    "# Сохраняем в CSV\n",
    "output_csv = train_dir.parent / \"train_20_0_6_2.csv\"\n",
    "df.to_csv(output_csv, index=False)\n",
    "\n",
    "print(f\"CSV сохранён в: {output_csv}\")\n"
   ]
  }
 ],
 "metadata": {
  "kernelspec": {
   "display_name": "venv",
   "language": "python",
   "name": "python3"
  },
  "language_info": {
   "codemirror_mode": {
    "name": "ipython",
    "version": 3
   },
   "file_extension": ".py",
   "mimetype": "text/x-python",
   "name": "python",
   "nbconvert_exporter": "python",
   "pygments_lexer": "ipython3",
   "version": "3.10.11"
  }
 },
 "nbformat": 4,
 "nbformat_minor": 5
}
