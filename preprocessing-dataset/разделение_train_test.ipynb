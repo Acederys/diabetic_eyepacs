{
 "cells": [
  {
   "cell_type": "code",
   "execution_count": 4,
   "id": "d89b92dd",
   "metadata": {},
   "outputs": [
    {
     "data": {
      "text/plain": [
       "array([0, 1, 2, 4, 3])"
      ]
     },
     "execution_count": 4,
     "metadata": {},
     "output_type": "execute_result"
    }
   ],
   "source": [
    "import pandas as pd\n",
    "from sklearn.model_selection import train_test_split\n",
    "\n",
    "original_train = pd.read_csv('D:/dataset/_eyepacs/data/trainLabels.csv')\n",
    "original_train['level'].unique()"
   ]
  },
  {
   "cell_type": "code",
   "execution_count": 5,
   "id": "91240974",
   "metadata": {},
   "outputs": [],
   "source": [
    "original_train.loc[original_train['level'] == 0, 'level'] = 0\n",
    "original_train.loc[original_train['level'].isin([1, 2, 3]), 'level'] = 1\n",
    "original_train.loc[original_train['level'].isin([4]), 'level'] = 2\n"
   ]
  },
  {
   "cell_type": "code",
   "execution_count": 9,
   "id": "56cdd94d",
   "metadata": {},
   "outputs": [],
   "source": [
    "original_train = original_train.rename(columns={'level':'true_label','image':'image_name'})\n",
    "df = original_train.copy()"
   ]
  },
  {
   "cell_type": "code",
   "execution_count": 11,
   "id": "726390c4",
   "metadata": {},
   "outputs": [
    {
     "name": "stdout",
     "output_type": "stream",
     "text": [
      "Train class distribution:\n",
      "true_label\n",
      "0    0.734804\n",
      "1    0.245053\n",
      "2    0.020142\n",
      "Name: proportion, dtype: float64\n",
      "\n",
      "Test class distribution:\n",
      "true_label\n",
      "0    0.734700\n",
      "1    0.245090\n",
      "2    0.020211\n",
      "Name: proportion, dtype: float64\n"
     ]
    }
   ],
   "source": [
    "\n",
    "# Убедимся, что level — это класс\n",
    "df['true_label'] = df['true_label'].astype(int)\n",
    "\n",
    "# Stratified split — 80% train / 20% test\n",
    "train_df, test_df = train_test_split(\n",
    "    df,\n",
    "    test_size=0.2,\n",
    "    stratify=df['true_label'],\n",
    "    random_state=42\n",
    ")\n",
    "\n",
    "# Проверим распределение\n",
    "print(\"Train class distribution:\")\n",
    "print(train_df['true_label'].value_counts(normalize=True))\n",
    "print(\"\\nTest class distribution:\")\n",
    "print(test_df['true_label'].value_counts(normalize=True))\n",
    "\n",
    "# Сохраняем\n",
    "train_df.to_csv(\"D:/dataset/_eyepacs/data/train_dirty_split.csv\", index=False)\n",
    "test_df.to_csv(\"D:/dataset/_eyepacs/data/test_dirty_split.csv\", index=False)"
   ]
  },
  {
   "cell_type": "code",
   "execution_count": 5,
   "id": "5d500c2c",
   "metadata": {},
   "outputs": [
    {
     "name": "stderr",
     "output_type": "stream",
     "text": [
      "100%|██████████| 7026/7026 [00:56<00:00, 123.28it/s]\n"
     ]
    }
   ],
   "source": [
    "import os\n",
    "import shutil\n",
    "import pandas as pd\n",
    "from tqdm import tqdm\n",
    "from PIL import Image\n",
    "\n",
    "# Пути\n",
    "csv_train = \"D:/dataset/_eyepacs/data/eyepacs_split/train_dirty_split.csv\"\n",
    "csv_test = \"D:/dataset/_eyepacs/data/eyepacs_split/test_dirty_split.csv\"\n",
    "# source_dir = \"D:/dataset/_eyepacs/data/data_1_baseline512\"  # где лежат .jpeg изображения\n",
    "# output_dir = \"D:/dataset/_eyepacs/data/eyepacs_split\"  # куда будем копировать\n",
    "source_dir = \"D:/dataset/_eyepacs/data/ochishenii_fon_512\"  # где лежат .jpeg изображения\n",
    "output_dir = \"D:/dataset/_eyepacs/data/ochishenii_fon_512_split\"  # куда будем копировать\n",
    "# Создание структуры папок\n",
    "for split in ['train', 'test']:\n",
    "    for label in range(5):\n",
    "        os.makedirs(os.path.join(output_dir, split, str(label)), exist_ok=True)\n",
    "\n",
    "def copy_and_rename_images(df, split_name):\n",
    "    for _, row in tqdm(df.iterrows(), total=len(df)):\n",
    "        original_name = row['image_name'] + '.jpeg'\n",
    "        new_name = row['image_name'] + \".jpg\"\n",
    "        label = str(row['true_label'])\n",
    "\n",
    "        src_path = os.path.join(source_dir, original_name)\n",
    "        dst_path = os.path.join(output_dir, split_name, label, new_name)\n",
    "\n",
    "        if os.path.exists(src_path):\n",
    "            try:\n",
    "                # Открываем и сохраняем изображение как .jpg\n",
    "                img = Image.open(src_path).convert(\"RGB\")\n",
    "                img.save(dst_path, \"JPEG\", quality=95)\n",
    "            except Exception as e:\n",
    "                print(f\"Error converting {src_path}: {e}\")\n",
    "        else:\n",
    "            print(f\"File not found: {src_path}\")\n",
    "\n",
    "# Загрузка CSV и копирование с изменением расширения\n",
    "train_df = pd.read_csv(csv_train)\n",
    "test_df = pd.read_csv(csv_test)\n",
    "\n",
    "# copy_and_rename_images(train_df, \"train\")\n",
    "copy_and_rename_images(test_df, \"test\")\n"
   ]
  },
  {
   "cell_type": "code",
   "execution_count": null,
   "id": "2e4537e3",
   "metadata": {},
   "outputs": [
    {
     "name": "stdout",
     "output_type": "stream",
     "text": [
      "✅ Saved: D:/dataset/_eyepacs/data/ochisheni_no_yarkosti/folds\\fold_0_ochilshenii_po_yarcosti_train.csv, D:/dataset/_eyepacs/data/ochisheni_no_yarkosti/folds\\fold_0_ochilshenii_po_yarcosti_val.csv\n",
      "✅ Saved: D:/dataset/_eyepacs/data/ochisheni_no_yarkosti/folds\\fold_1_ochilshenii_po_yarcosti_train.csv, D:/dataset/_eyepacs/data/ochisheni_no_yarkosti/folds\\fold_1_ochilshenii_po_yarcosti_val.csv\n",
      "✅ Saved: D:/dataset/_eyepacs/data/ochisheni_no_yarkosti/folds\\fold_2_ochilshenii_po_yarcosti_train.csv, D:/dataset/_eyepacs/data/ochisheni_no_yarkosti/folds\\fold_2_ochilshenii_po_yarcosti_val.csv\n"
     ]
    }
   ],
   "source": [
    "import pandas as pd\n",
    "from sklearn.model_selection import StratifiedKFold\n",
    "import os\n",
    "\n",
    "# После удаления яркости\n",
    "csv_path = \"D:/dataset/_eyepacs/data/ochisheni_no_yarkosti/train_all_image.csv\"\n",
    "output_dir = \"D:/dataset/_eyepacs/data/ochisheni_no_yarkosti/folds\"\n",
    "os.makedirs(output_dir, exist_ok=True)\n",
    "\n",
    "# Загрузка данных\n",
    "df = pd.read_csv(csv_path)\n",
    "\n",
    "# Настройка количества фолдов\n",
    "n_splits = 3  # Можно поставить 5, если хочешь более точную оценку\n",
    "skf = StratifiedKFold(n_splits=n_splits, shuffle=True, random_state=42)\n",
    "\n",
    "# Разделение и сохранение по фолдам\n",
    "for fold, (train_idx, val_idx) in enumerate(skf.split(df['image_name'], df['true_label'])):\n",
    "    train_df = df.iloc[train_idx].reset_index(drop=True)\n",
    "    val_df = df.iloc[val_idx].reset_index(drop=True)\n",
    "    \n",
    "    train_path = os.path.join(output_dir, f\"fold_{fold}_ochilshenii_po_yarcosti_train.csv\")\n",
    "    val_path = os.path.join(output_dir, f\"fold_{fold}_ochilshenii_po_yarcosti_val.csv\")\n",
    "    \n",
    "    train_df.to_csv(train_path, index=False)\n",
    "    val_df.to_csv(val_path, index=False)\n",
    "\n",
    "    print(f\" Saved: {train_path}, {val_path}\")\n"
   ]
  },
  {
   "cell_type": "code",
   "execution_count": 2,
   "id": "68beefbb",
   "metadata": {},
   "outputs": [
    {
     "name": "stdout",
     "output_type": "stream",
     "text": [
      " Saved: D:/dataset/_eyepacs/data/filtered_data_with_cosine/folds\\fold_0_ochilshenii_po_yarcosti_train.csv, D:/dataset/_eyepacs/data/filtered_data_with_cosine/folds\\fold_0_ochilshenii_po_yarcosti_val.csv\n",
      " Saved: D:/dataset/_eyepacs/data/filtered_data_with_cosine/folds\\fold_1_ochilshenii_po_yarcosti_train.csv, D:/dataset/_eyepacs/data/filtered_data_with_cosine/folds\\fold_1_ochilshenii_po_yarcosti_val.csv\n",
      " Saved: D:/dataset/_eyepacs/data/filtered_data_with_cosine/folds\\fold_2_ochilshenii_po_yarcosti_train.csv, D:/dataset/_eyepacs/data/filtered_data_with_cosine/folds\\fold_2_ochilshenii_po_yarcosti_val.csv\n"
     ]
    }
   ],
   "source": [
    "import pandas as pd\n",
    "from sklearn.model_selection import StratifiedKFold\n",
    "import os\n",
    "\n",
    "# После удаления аномалий\n",
    "csv_path = \"D:/dataset/_eyepacs/data/filtered_data_with_cosine/train_all_image.csv\"\n",
    "output_dir = \"D:/dataset/_eyepacs/data/filtered_data_with_cosine/folds\"\n",
    "os.makedirs(output_dir, exist_ok=True)\n",
    "\n",
    "# Загрузка данных\n",
    "df = pd.read_csv(csv_path)\n",
    "\n",
    "# Настройка количества фолдов\n",
    "n_splits = 3  # Можно поставить 5, если хочешь более точную оценку\n",
    "skf = StratifiedKFold(n_splits=n_splits, shuffle=True, random_state=42)\n",
    "\n",
    "# Разделение и сохранение по фолдам\n",
    "for fold, (train_idx, val_idx) in enumerate(skf.split(df['image_name'], df['true_label'])):\n",
    "    train_df = df.iloc[train_idx].reset_index(drop=True)\n",
    "    val_df = df.iloc[val_idx].reset_index(drop=True)\n",
    "    \n",
    "    train_path = os.path.join(output_dir, f\"fold_{fold}_ochilshenii_po_yarcosti_train.csv\")\n",
    "    val_path = os.path.join(output_dir, f\"fold_{fold}_ochilshenii_po_yarcosti_val.csv\")\n",
    "    \n",
    "    train_df.to_csv(train_path, index=False)\n",
    "    val_df.to_csv(val_path, index=False)\n",
    "\n",
    "    print(f\" Saved: {train_path}, {val_path}\")\n"
   ]
  },
  {
   "cell_type": "code",
   "execution_count": 1,
   "id": "aedb5ed6",
   "metadata": {},
   "outputs": [
    {
     "name": "stdout",
     "output_type": "stream",
     "text": [
      " Saved: D:/dataset/_eyepacs/data/center_evklid/folds\\fold_0_center_evklid_train.csv, D:/dataset/_eyepacs/data/center_evklid/folds\\fold_0_center_evklid_val.csv\n",
      " Saved: D:/dataset/_eyepacs/data/center_evklid/folds\\fold_1_center_evklid_train.csv, D:/dataset/_eyepacs/data/center_evklid/folds\\fold_1_center_evklid_val.csv\n",
      " Saved: D:/dataset/_eyepacs/data/center_evklid/folds\\fold_2_center_evklid_train.csv, D:/dataset/_eyepacs/data/center_evklid/folds\\fold_2_center_evklid_val.csv\n"
     ]
    }
   ],
   "source": [
    "import pandas as pd\n",
    "from sklearn.model_selection import StratifiedKFold\n",
    "import os\n",
    "\n",
    "# После удаления евклидова\n",
    "csv_path = \"D:/dataset/_eyepacs/data/center_evklid/center_evklid_train.csv\"\n",
    "output_dir = \"D:/dataset/_eyepacs/data/center_evklid/folds\"\n",
    "os.makedirs(output_dir, exist_ok=True)\n",
    "\n",
    "# Загрузка данных\n",
    "df = pd.read_csv(csv_path)\n",
    "\n",
    "# Настройка количества фолдов\n",
    "n_splits = 3  # Можно поставить 5, если хочешь более точную оценку\n",
    "skf = StratifiedKFold(n_splits=n_splits, shuffle=True, random_state=42)\n",
    "\n",
    "# Разделение и сохранение по фолдам\n",
    "for fold, (train_idx, val_idx) in enumerate(skf.split(df['image_name'], df['true_label'])):\n",
    "    train_df = df.iloc[train_idx].reset_index(drop=True)\n",
    "    val_df = df.iloc[val_idx].reset_index(drop=True)\n",
    "    \n",
    "    train_path = os.path.join(output_dir, f\"fold_{fold}_center_evklid_train.csv\")\n",
    "    val_path = os.path.join(output_dir, f\"fold_{fold}_center_evklid_val.csv\")\n",
    "    \n",
    "    train_df.to_csv(train_path, index=False)\n",
    "    val_df.to_csv(val_path, index=False)\n",
    "\n",
    "    print(f\" Saved: {train_path}, {val_path}\")\n"
   ]
  },
  {
   "cell_type": "code",
   "execution_count": 2,
   "id": "6010323e",
   "metadata": {},
   "outputs": [
    {
     "name": "stdout",
     "output_type": "stream",
     "text": [
      " Saved: D:/dataset/_eyepacs/data/combined_cosine_evklid/folds\\fold_0_combined_cosine_evklid_train.csv, D:/dataset/_eyepacs/data/combined_cosine_evklid/folds\\fold_0_combined_cosine_evklid_val.csv\n",
      " Saved: D:/dataset/_eyepacs/data/combined_cosine_evklid/folds\\fold_1_combined_cosine_evklid_train.csv, D:/dataset/_eyepacs/data/combined_cosine_evklid/folds\\fold_1_combined_cosine_evklid_val.csv\n",
      " Saved: D:/dataset/_eyepacs/data/combined_cosine_evklid/folds\\fold_2_combined_cosine_evklid_train.csv, D:/dataset/_eyepacs/data/combined_cosine_evklid/folds\\fold_2_combined_cosine_evklid_val.csv\n"
     ]
    }
   ],
   "source": [
    "import pandas as pd\n",
    "from sklearn.model_selection import StratifiedKFold\n",
    "import os\n",
    "\n",
    "# После удаления евклидова\n",
    "csv_path = \"D:/dataset/_eyepacs/data/combined_cosine_evklid/combined_cosine_evklid.csv\"\n",
    "output_dir = \"D:/dataset/_eyepacs/data/combined_cosine_evklid/folds\"\n",
    "os.makedirs(output_dir, exist_ok=True)\n",
    "\n",
    "# Загрузка данных\n",
    "df = pd.read_csv(csv_path)\n",
    "\n",
    "# Настройка количества фолдов\n",
    "n_splits = 3  # Можно поставить 5, если хочешь более точную оценку\n",
    "skf = StratifiedKFold(n_splits=n_splits, shuffle=True, random_state=42)\n",
    "\n",
    "# Разделение и сохранение по фолдам\n",
    "for fold, (train_idx, val_idx) in enumerate(skf.split(df['image_name'], df['true_label'])):\n",
    "    train_df = df.iloc[train_idx].reset_index(drop=True)\n",
    "    val_df = df.iloc[val_idx].reset_index(drop=True)\n",
    "    \n",
    "    train_path = os.path.join(output_dir, f\"fold_{fold}_combined_cosine_evklid_train.csv\")\n",
    "    val_path = os.path.join(output_dir, f\"fold_{fold}_combined_cosine_evklid_val.csv\")\n",
    "    \n",
    "    train_df.to_csv(train_path, index=False)\n",
    "    val_df.to_csv(val_path, index=False)\n",
    "\n",
    "    print(f\" Saved: {train_path}, {val_path}\")\n"
   ]
  }
 ],
 "metadata": {
  "kernelspec": {
   "display_name": "venv",
   "language": "python",
   "name": "python3"
  },
  "language_info": {
   "codemirror_mode": {
    "name": "ipython",
    "version": 3
   },
   "file_extension": ".py",
   "mimetype": "text/x-python",
   "name": "python",
   "nbconvert_exporter": "python",
   "pygments_lexer": "ipython3",
   "version": "3.10.11"
  }
 },
 "nbformat": 4,
 "nbformat_minor": 5
}
